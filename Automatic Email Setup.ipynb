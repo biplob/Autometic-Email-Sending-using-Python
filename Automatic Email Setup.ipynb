{
 "cells": [
  {
   "cell_type": "code",
   "execution_count": null,
   "id": "6e89e202",
   "metadata": {},
   "outputs": [
    {
     "name": "stdout",
     "output_type": "stream",
     "text": [
      "Enter Your Name >>: Monsur Biplob\n"
     ]
    }
   ],
   "source": [
    "# Import all necessary libaries\n",
    "import os\n",
    "import random\n",
    "import smtplib\n",
    "\n",
    "# Create a autometic fucation for email sending and also connect with mail\n",
    "def autometic_email():\n",
    "    # Input user name\n",
    "    user = input(\"Enter Your Name >>: \")\n",
    "    # Input email address\n",
    "    email = input(\"Enter Your Email >>: \")\n",
    "    # Also back mail message\n",
    "    message = (f\"Dear {user}, Welcome to Data Science Paltfrom\")\n",
    "    # Connect with SMTP \n",
    "    s = smtplib.SMTP('stmp.gmail.com', 587)\n",
    "    # call starttls funcation\n",
    "    s.starttls()\n",
    "    # Login user name, app pssword\n",
    "    s.login(\"Your Gmail Account\", \"Your App Pwssword\")\n",
    "    # sending email\n",
    "    s.sendmail('&&&&&&&', email, message)\n",
    "    # print status email is sending or not\n",
    "    print(\"Email Sent!\")\n",
    "    \n",
    "# Call autometic_email funcation here    \n",
    "autometic_email()"
   ]
  },
  {
   "cell_type": "code",
   "execution_count": null,
   "id": "e6f0a467",
   "metadata": {},
   "outputs": [],
   "source": []
  }
 ],
 "metadata": {
  "kernelspec": {
   "display_name": "Python 3 (ipykernel)",
   "language": "python",
   "name": "python3"
  },
  "language_info": {
   "codemirror_mode": {
    "name": "ipython",
    "version": 3
   },
   "file_extension": ".py",
   "mimetype": "text/x-python",
   "name": "python",
   "nbconvert_exporter": "python",
   "pygments_lexer": "ipython3",
   "version": "3.9.12"
  }
 },
 "nbformat": 4,
 "nbformat_minor": 5
}
